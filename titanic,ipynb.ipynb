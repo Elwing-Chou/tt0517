{
  "nbformat": 4,
  "nbformat_minor": 0,
  "metadata": {
    "colab": {
      "name": "titanic,ipynb",
      "provenance": []
    },
    "kernelspec": {
      "name": "python3",
      "display_name": "Python 3"
    }
  },
  "cells": [
    {
      "cell_type": "code",
      "metadata": {
        "id": "x_1Xte1mpq1b",
        "colab_type": "code",
        "colab": {}
      },
      "source": [
        "import pandas as pd\n",
        "train_df = pd.read_csv(\"train.csv\", encoding=\"utf-8\")\n",
        "test_df = pd.read_csv(\"test.csv\", encoding=\"utf-8\")\n",
        "train_df"
      ],
      "execution_count": 0,
      "outputs": []
    },
    {
      "cell_type": "code",
      "metadata": {
        "id": "VMRWUU0pq2Tb",
        "colab_type": "code",
        "colab": {
          "base_uri": "https://localhost:8080/",
          "height": 52
        },
        "outputId": "7e6ded86-13fa-4369-bfee-b47e8e3fbd0a"
      },
      "source": [
        "print(train_df.shape)\n",
        "print(test_df.shape)"
      ],
      "execution_count": 3,
      "outputs": [
        {
          "output_type": "stream",
          "text": [
            "(891, 12)\n",
            "(418, 11)\n"
          ],
          "name": "stdout"
        }
      ]
    },
    {
      "cell_type": "code",
      "metadata": {
        "id": "NC7xvWVXy88d",
        "colab_type": "code",
        "colab": {}
      },
      "source": [
        "# isna, sum: train_df.isna().sum()\n",
        "s = train_df.isna().sum()\n",
        "s[s > 0]"
      ],
      "execution_count": 0,
      "outputs": []
    },
    {
      "cell_type": "code",
      "metadata": {
        "id": "PMzlmKyq0BdS",
        "colab_type": "code",
        "colab": {}
      },
      "source": [
        "# isna, sum: train_df.isna().sum()\n",
        "s = test_df.isna().sum()\n",
        "s[s > 0]"
      ],
      "execution_count": 0,
      "outputs": []
    },
    {
      "cell_type": "code",
      "metadata": {
        "id": "xUAm7qO40KU4",
        "colab_type": "code",
        "colab": {
          "base_uri": "https://localhost:8080/",
          "height": 52
        },
        "outputId": "007802c4-4d5a-46aa-a9b2-a10fc7b1f19e"
      },
      "source": [
        "# 數值類型缺失直: 補中位數\n",
        "# medain(), mean()\n",
        "# Pclass: 其實是類別, 不該填中位數\n",
        "med = train_df.median().drop([\"Pclass\"])\n",
        "train_df = train_df.fillna(med)\n",
        "# test要不要重算一次med? 不能重算!!\n",
        "test_df = test_df.fillna(med)\n",
        "# isna, sum: train_df.isna().sum()\n",
        "s = test_df.isna().sum()\n",
        "s[s > 0]"
      ],
      "execution_count": 13,
      "outputs": [
        {
          "output_type": "execute_result",
          "data": {
            "text/plain": [
              "Cabin    327\n",
              "dtype: int64"
            ]
          },
          "metadata": {
            "tags": []
          },
          "execution_count": 13
        }
      ]
    }
  ]
}