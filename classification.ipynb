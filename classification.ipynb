{
  "nbformat": 4,
  "nbformat_minor": 0,
  "metadata": {
    "colab": {
      "name": "classification",
      "provenance": [],
      "collapsed_sections": []
    },
    "kernelspec": {
      "name": "python3",
      "display_name": "Python 3"
    }
  },
  "cells": [
    {
      "cell_type": "code",
      "metadata": {
        "id": "NToA3tXLn0j7",
        "colab_type": "code",
        "colab": {
          "base_uri": "https://localhost:8080/",
          "height": 417
        },
        "outputId": "280716f6-a6a6-4047-97ee-2c1725616149"
      },
      "source": [
        "import pandas as pd\n",
        "from sklearn.datasets import load_iris\n",
        "iris = load_iris()\n",
        "df = pd.DataFrame(iris[\"data\"],\n",
        "                  columns=iris[\"feature_names\"])\n",
        "df[\"ans\"] = iris[\"target\"]\n",
        "df.to_csv(\"iris.csv\", encoding=\"utf-8\", index=False)\n",
        "df"
      ],
      "execution_count": 8,
      "outputs": [
        {
          "output_type": "execute_result",
          "data": {
            "text/html": [
              "<div>\n",
              "<style scoped>\n",
              "    .dataframe tbody tr th:only-of-type {\n",
              "        vertical-align: middle;\n",
              "    }\n",
              "\n",
              "    .dataframe tbody tr th {\n",
              "        vertical-align: top;\n",
              "    }\n",
              "\n",
              "    .dataframe thead th {\n",
              "        text-align: right;\n",
              "    }\n",
              "</style>\n",
              "<table border=\"1\" class=\"dataframe\">\n",
              "  <thead>\n",
              "    <tr style=\"text-align: right;\">\n",
              "      <th></th>\n",
              "      <th>sepal length (cm)</th>\n",
              "      <th>sepal width (cm)</th>\n",
              "      <th>petal length (cm)</th>\n",
              "      <th>petal width (cm)</th>\n",
              "      <th>ans</th>\n",
              "    </tr>\n",
              "  </thead>\n",
              "  <tbody>\n",
              "    <tr>\n",
              "      <th>0</th>\n",
              "      <td>5.1</td>\n",
              "      <td>3.5</td>\n",
              "      <td>1.4</td>\n",
              "      <td>0.2</td>\n",
              "      <td>0</td>\n",
              "    </tr>\n",
              "    <tr>\n",
              "      <th>1</th>\n",
              "      <td>4.9</td>\n",
              "      <td>3.0</td>\n",
              "      <td>1.4</td>\n",
              "      <td>0.2</td>\n",
              "      <td>0</td>\n",
              "    </tr>\n",
              "    <tr>\n",
              "      <th>2</th>\n",
              "      <td>4.7</td>\n",
              "      <td>3.2</td>\n",
              "      <td>1.3</td>\n",
              "      <td>0.2</td>\n",
              "      <td>0</td>\n",
              "    </tr>\n",
              "    <tr>\n",
              "      <th>3</th>\n",
              "      <td>4.6</td>\n",
              "      <td>3.1</td>\n",
              "      <td>1.5</td>\n",
              "      <td>0.2</td>\n",
              "      <td>0</td>\n",
              "    </tr>\n",
              "    <tr>\n",
              "      <th>4</th>\n",
              "      <td>5.0</td>\n",
              "      <td>3.6</td>\n",
              "      <td>1.4</td>\n",
              "      <td>0.2</td>\n",
              "      <td>0</td>\n",
              "    </tr>\n",
              "    <tr>\n",
              "      <th>...</th>\n",
              "      <td>...</td>\n",
              "      <td>...</td>\n",
              "      <td>...</td>\n",
              "      <td>...</td>\n",
              "      <td>...</td>\n",
              "    </tr>\n",
              "    <tr>\n",
              "      <th>145</th>\n",
              "      <td>6.7</td>\n",
              "      <td>3.0</td>\n",
              "      <td>5.2</td>\n",
              "      <td>2.3</td>\n",
              "      <td>2</td>\n",
              "    </tr>\n",
              "    <tr>\n",
              "      <th>146</th>\n",
              "      <td>6.3</td>\n",
              "      <td>2.5</td>\n",
              "      <td>5.0</td>\n",
              "      <td>1.9</td>\n",
              "      <td>2</td>\n",
              "    </tr>\n",
              "    <tr>\n",
              "      <th>147</th>\n",
              "      <td>6.5</td>\n",
              "      <td>3.0</td>\n",
              "      <td>5.2</td>\n",
              "      <td>2.0</td>\n",
              "      <td>2</td>\n",
              "    </tr>\n",
              "    <tr>\n",
              "      <th>148</th>\n",
              "      <td>6.2</td>\n",
              "      <td>3.4</td>\n",
              "      <td>5.4</td>\n",
              "      <td>2.3</td>\n",
              "      <td>2</td>\n",
              "    </tr>\n",
              "    <tr>\n",
              "      <th>149</th>\n",
              "      <td>5.9</td>\n",
              "      <td>3.0</td>\n",
              "      <td>5.1</td>\n",
              "      <td>1.8</td>\n",
              "      <td>2</td>\n",
              "    </tr>\n",
              "  </tbody>\n",
              "</table>\n",
              "<p>150 rows × 5 columns</p>\n",
              "</div>"
            ],
            "text/plain": [
              "     sepal length (cm)  sepal width (cm)  ...  petal width (cm)  ans\n",
              "0                  5.1               3.5  ...               0.2    0\n",
              "1                  4.9               3.0  ...               0.2    0\n",
              "2                  4.7               3.2  ...               0.2    0\n",
              "3                  4.6               3.1  ...               0.2    0\n",
              "4                  5.0               3.6  ...               0.2    0\n",
              "..                 ...               ...  ...               ...  ...\n",
              "145                6.7               3.0  ...               2.3    2\n",
              "146                6.3               2.5  ...               1.9    2\n",
              "147                6.5               3.0  ...               2.0    2\n",
              "148                6.2               3.4  ...               2.3    2\n",
              "149                5.9               3.0  ...               1.8    2\n",
              "\n",
              "[150 rows x 5 columns]"
            ]
          },
          "metadata": {
            "tags": []
          },
          "execution_count": 8
        }
      ]
    },
    {
      "cell_type": "code",
      "metadata": {
        "id": "bRsl7NzrJ6mo",
        "colab_type": "code",
        "colab": {}
      },
      "source": [
        "from sklearn.model_selection import train_test_split\n",
        "# [x_train(90%題目), x_test(10%題目), y_train(90%答案), y_test(10%答案)]\n",
        "x_train, x_test, y_train, y_test = train_test_split(iris[\"data\"],\n",
        "                                                    iris[\"target\"],\n",
        "                                                    test_size=0.1)"
      ],
      "execution_count": 0,
      "outputs": []
    },
    {
      "cell_type": "code",
      "metadata": {
        "id": "kbQDcnGjNaW8",
        "colab_type": "code",
        "colab": {}
      },
      "source": [
        "from sklearn.tree import DecisionTreeClassifier\n",
        "clf = DecisionTreeClassifier()\n",
        "clf.fit(x_train, y_train)"
      ],
      "execution_count": 0,
      "outputs": []
    },
    {
      "cell_type": "code",
      "metadata": {
        "id": "dRZLwK-8N_v7",
        "colab_type": "code",
        "colab": {
          "base_uri": "https://localhost:8080/",
          "height": 935
        },
        "outputId": "61dc34d5-88f9-4562-e6f2-5721631e6b4b"
      },
      "source": [
        "import graphviz\n",
        "from sklearn.tree import export_graphviz\n",
        "g = export_graphviz(clf, \n",
        "                    feature_names=iris[\"feature_names\"],\n",
        "                    class_names=iris[\"target_names\"],\n",
        "                    filled=True)\n",
        "graphviz.Source(g)"
      ],
      "execution_count": 19,
      "outputs": [
        {
          "output_type": "execute_result",
          "data": {
            "text/plain": [
              "<graphviz.files.Source at 0x7f769f2d00b8>"
            ],
            "image/svg+xml": "<?xml version=\"1.0\" encoding=\"UTF-8\" standalone=\"no\"?>\n<!DOCTYPE svg PUBLIC \"-//W3C//DTD SVG 1.1//EN\"\n \"http://www.w3.org/Graphics/SVG/1.1/DTD/svg11.dtd\">\n<!-- Generated by graphviz version 2.40.1 (20161225.0304)\n -->\n<!-- Title: Tree Pages: 1 -->\n<svg width=\"662pt\" height=\"671pt\"\n viewBox=\"0.00 0.00 661.50 671.00\" xmlns=\"http://www.w3.org/2000/svg\" xmlns:xlink=\"http://www.w3.org/1999/xlink\">\n<g id=\"graph0\" class=\"graph\" transform=\"scale(1 1) rotate(0) translate(4 667)\">\n<title>Tree</title>\n<polygon fill=\"#ffffff\" stroke=\"transparent\" points=\"-4,4 -4,-667 657.5,-667 657.5,4 -4,4\"/>\n<!-- 0 -->\n<g id=\"node1\" class=\"node\">\n<title>0</title>\n<polygon fill=\"#fefdff\" stroke=\"#000000\" points=\"348.5,-663 195.5,-663 195.5,-580 348.5,-580 348.5,-663\"/>\n<text text-anchor=\"middle\" x=\"272\" y=\"-647.8\" font-family=\"Times,serif\" font-size=\"14.00\" fill=\"#000000\">petal width (cm) &lt;= 0.8</text>\n<text text-anchor=\"middle\" x=\"272\" y=\"-632.8\" font-family=\"Times,serif\" font-size=\"14.00\" fill=\"#000000\">gini = 0.667</text>\n<text text-anchor=\"middle\" x=\"272\" y=\"-617.8\" font-family=\"Times,serif\" font-size=\"14.00\" fill=\"#000000\">samples = 135</text>\n<text text-anchor=\"middle\" x=\"272\" y=\"-602.8\" font-family=\"Times,serif\" font-size=\"14.00\" fill=\"#000000\">value = [45, 44, 46]</text>\n<text text-anchor=\"middle\" x=\"272\" y=\"-587.8\" font-family=\"Times,serif\" font-size=\"14.00\" fill=\"#000000\">class = virginica</text>\n</g>\n<!-- 1 -->\n<g id=\"node2\" class=\"node\">\n<title>1</title>\n<polygon fill=\"#e58139\" stroke=\"#000000\" points=\"252.5,-536.5 135.5,-536.5 135.5,-468.5 252.5,-468.5 252.5,-536.5\"/>\n<text text-anchor=\"middle\" x=\"194\" y=\"-521.3\" font-family=\"Times,serif\" font-size=\"14.00\" fill=\"#000000\">gini = 0.0</text>\n<text text-anchor=\"middle\" x=\"194\" y=\"-506.3\" font-family=\"Times,serif\" font-size=\"14.00\" fill=\"#000000\">samples = 45</text>\n<text text-anchor=\"middle\" x=\"194\" y=\"-491.3\" font-family=\"Times,serif\" font-size=\"14.00\" fill=\"#000000\">value = [45, 0, 0]</text>\n<text text-anchor=\"middle\" x=\"194\" y=\"-476.3\" font-family=\"Times,serif\" font-size=\"14.00\" fill=\"#000000\">class = setosa</text>\n</g>\n<!-- 0&#45;&gt;1 -->\n<g id=\"edge1\" class=\"edge\">\n<title>0&#45;&gt;1</title>\n<path fill=\"none\" stroke=\"#000000\" d=\"M244.7194,-579.8796C237.3677,-568.6636 229.4036,-556.5131 222.0126,-545.2372\"/>\n<polygon fill=\"#000000\" stroke=\"#000000\" points=\"224.9014,-543.2598 216.4921,-536.8149 219.0469,-547.0972 224.9014,-543.2598\"/>\n<text text-anchor=\"middle\" x=\"211.3982\" y=\"-557.5905\" font-family=\"Times,serif\" font-size=\"14.00\" fill=\"#000000\">True</text>\n</g>\n<!-- 2 -->\n<g id=\"node3\" class=\"node\">\n<title>2</title>\n<polygon fill=\"#faf6fe\" stroke=\"#000000\" points=\"431.5,-544 270.5,-544 270.5,-461 431.5,-461 431.5,-544\"/>\n<text text-anchor=\"middle\" x=\"351\" y=\"-528.8\" font-family=\"Times,serif\" font-size=\"14.00\" fill=\"#000000\">petal width (cm) &lt;= 1.65</text>\n<text text-anchor=\"middle\" x=\"351\" y=\"-513.8\" font-family=\"Times,serif\" font-size=\"14.00\" fill=\"#000000\">gini = 0.5</text>\n<text text-anchor=\"middle\" x=\"351\" y=\"-498.8\" font-family=\"Times,serif\" font-size=\"14.00\" fill=\"#000000\">samples = 90</text>\n<text text-anchor=\"middle\" x=\"351\" y=\"-483.8\" font-family=\"Times,serif\" font-size=\"14.00\" fill=\"#000000\">value = [0, 44, 46]</text>\n<text text-anchor=\"middle\" x=\"351\" y=\"-468.8\" font-family=\"Times,serif\" font-size=\"14.00\" fill=\"#000000\">class = virginica</text>\n</g>\n<!-- 0&#45;&gt;2 -->\n<g id=\"edge2\" class=\"edge\">\n<title>0&#45;&gt;2</title>\n<path fill=\"none\" stroke=\"#000000\" d=\"M299.6304,-579.8796C305.43,-571.1434 311.6059,-561.8404 317.5908,-552.8253\"/>\n<polygon fill=\"#000000\" stroke=\"#000000\" points=\"320.6368,-554.5652 323.2517,-544.2981 314.8049,-550.6935 320.6368,-554.5652\"/>\n<text text-anchor=\"middle\" x=\"328.2022\" y=\"-565.103\" font-family=\"Times,serif\" font-size=\"14.00\" fill=\"#000000\">False</text>\n</g>\n<!-- 3 -->\n<g id=\"node4\" class=\"node\">\n<title>3</title>\n<polygon fill=\"#4be78d\" stroke=\"#000000\" points=\"342,-425 178,-425 178,-342 342,-342 342,-425\"/>\n<text text-anchor=\"middle\" x=\"260\" y=\"-409.8\" font-family=\"Times,serif\" font-size=\"14.00\" fill=\"#000000\">petal length (cm) &lt;= 4.95</text>\n<text text-anchor=\"middle\" x=\"260\" y=\"-394.8\" font-family=\"Times,serif\" font-size=\"14.00\" fill=\"#000000\">gini = 0.156</text>\n<text text-anchor=\"middle\" x=\"260\" y=\"-379.8\" font-family=\"Times,serif\" font-size=\"14.00\" fill=\"#000000\">samples = 47</text>\n<text text-anchor=\"middle\" x=\"260\" y=\"-364.8\" font-family=\"Times,serif\" font-size=\"14.00\" fill=\"#000000\">value = [0, 43, 4]</text>\n<text text-anchor=\"middle\" x=\"260\" y=\"-349.8\" font-family=\"Times,serif\" font-size=\"14.00\" fill=\"#000000\">class = versicolor</text>\n</g>\n<!-- 2&#45;&gt;3 -->\n<g id=\"edge3\" class=\"edge\">\n<title>2&#45;&gt;3</title>\n<path fill=\"none\" stroke=\"#000000\" d=\"M319.1726,-460.8796C312.3543,-451.9633 305.0844,-442.4565 298.0579,-433.268\"/>\n<polygon fill=\"#000000\" stroke=\"#000000\" points=\"300.818,-431.1156 291.9632,-425.2981 295.2575,-435.3678 300.818,-431.1156\"/>\n</g>\n<!-- 10 -->\n<g id=\"node11\" class=\"node\">\n<title>10</title>\n<polygon fill=\"#843ee6\" stroke=\"#000000\" points=\"524,-425 360,-425 360,-342 524,-342 524,-425\"/>\n<text text-anchor=\"middle\" x=\"442\" y=\"-409.8\" font-family=\"Times,serif\" font-size=\"14.00\" fill=\"#000000\">petal length (cm) &lt;= 4.85</text>\n<text text-anchor=\"middle\" x=\"442\" y=\"-394.8\" font-family=\"Times,serif\" font-size=\"14.00\" fill=\"#000000\">gini = 0.045</text>\n<text text-anchor=\"middle\" x=\"442\" y=\"-379.8\" font-family=\"Times,serif\" font-size=\"14.00\" fill=\"#000000\">samples = 43</text>\n<text text-anchor=\"middle\" x=\"442\" y=\"-364.8\" font-family=\"Times,serif\" font-size=\"14.00\" fill=\"#000000\">value = [0, 1, 42]</text>\n<text text-anchor=\"middle\" x=\"442\" y=\"-349.8\" font-family=\"Times,serif\" font-size=\"14.00\" fill=\"#000000\">class = virginica</text>\n</g>\n<!-- 2&#45;&gt;10 -->\n<g id=\"edge10\" class=\"edge\">\n<title>2&#45;&gt;10</title>\n<path fill=\"none\" stroke=\"#000000\" d=\"M382.8274,-460.8796C389.6457,-451.9633 396.9156,-442.4565 403.9421,-433.268\"/>\n<polygon fill=\"#000000\" stroke=\"#000000\" points=\"406.7425,-435.3678 410.0368,-425.2981 401.182,-431.1156 406.7425,-435.3678\"/>\n</g>\n<!-- 4 -->\n<g id=\"node5\" class=\"node\">\n<title>4</title>\n<polygon fill=\"#39e581\" stroke=\"#000000\" points=\"161.5,-298.5 44.5,-298.5 44.5,-230.5 161.5,-230.5 161.5,-298.5\"/>\n<text text-anchor=\"middle\" x=\"103\" y=\"-283.3\" font-family=\"Times,serif\" font-size=\"14.00\" fill=\"#000000\">gini = 0.0</text>\n<text text-anchor=\"middle\" x=\"103\" y=\"-268.3\" font-family=\"Times,serif\" font-size=\"14.00\" fill=\"#000000\">samples = 42</text>\n<text text-anchor=\"middle\" x=\"103\" y=\"-253.3\" font-family=\"Times,serif\" font-size=\"14.00\" fill=\"#000000\">value = [0, 42, 0]</text>\n<text text-anchor=\"middle\" x=\"103\" y=\"-238.3\" font-family=\"Times,serif\" font-size=\"14.00\" fill=\"#000000\">class = versicolor</text>\n</g>\n<!-- 3&#45;&gt;4 -->\n<g id=\"edge4\" class=\"edge\">\n<title>3&#45;&gt;4</title>\n<path fill=\"none\" stroke=\"#000000\" d=\"M205.089,-341.8796C189.2006,-329.8368 171.8909,-316.7167 156.1143,-304.7586\"/>\n<polygon fill=\"#000000\" stroke=\"#000000\" points=\"158.1031,-301.8743 148.0195,-298.623 153.8747,-307.4529 158.1031,-301.8743\"/>\n</g>\n<!-- 5 -->\n<g id=\"node6\" class=\"node\">\n<title>5</title>\n<polygon fill=\"#a06aec\" stroke=\"#000000\" points=\"344.5,-306 179.5,-306 179.5,-223 344.5,-223 344.5,-306\"/>\n<text text-anchor=\"middle\" x=\"262\" y=\"-290.8\" font-family=\"Times,serif\" font-size=\"14.00\" fill=\"#000000\">sepal length (cm) &lt;= 6.05</text>\n<text text-anchor=\"middle\" x=\"262\" y=\"-275.8\" font-family=\"Times,serif\" font-size=\"14.00\" fill=\"#000000\">gini = 0.32</text>\n<text text-anchor=\"middle\" x=\"262\" y=\"-260.8\" font-family=\"Times,serif\" font-size=\"14.00\" fill=\"#000000\">samples = 5</text>\n<text text-anchor=\"middle\" x=\"262\" y=\"-245.8\" font-family=\"Times,serif\" font-size=\"14.00\" fill=\"#000000\">value = [0, 1, 4]</text>\n<text text-anchor=\"middle\" x=\"262\" y=\"-230.8\" font-family=\"Times,serif\" font-size=\"14.00\" fill=\"#000000\">class = virginica</text>\n</g>\n<!-- 3&#45;&gt;5 -->\n<g id=\"edge5\" class=\"edge\">\n<title>3&#45;&gt;5</title>\n<path fill=\"none\" stroke=\"#000000\" d=\"M260.6995,-341.8796C260.8372,-333.6838 260.9834,-324.9891 261.126,-316.5013\"/>\n<polygon fill=\"#000000\" stroke=\"#000000\" points=\"264.6289,-316.3555 261.2975,-306.2981 257.6299,-316.2378 264.6289,-316.3555\"/>\n</g>\n<!-- 6 -->\n<g id=\"node7\" class=\"node\">\n<title>6</title>\n<polygon fill=\"#ffffff\" stroke=\"#000000\" points=\"200.5,-187 39.5,-187 39.5,-104 200.5,-104 200.5,-187\"/>\n<text text-anchor=\"middle\" x=\"120\" y=\"-171.8\" font-family=\"Times,serif\" font-size=\"14.00\" fill=\"#000000\">petal width (cm) &lt;= 1.55</text>\n<text text-anchor=\"middle\" x=\"120\" y=\"-156.8\" font-family=\"Times,serif\" font-size=\"14.00\" fill=\"#000000\">gini = 0.5</text>\n<text text-anchor=\"middle\" x=\"120\" y=\"-141.8\" font-family=\"Times,serif\" font-size=\"14.00\" fill=\"#000000\">samples = 2</text>\n<text text-anchor=\"middle\" x=\"120\" y=\"-126.8\" font-family=\"Times,serif\" font-size=\"14.00\" fill=\"#000000\">value = [0, 1, 1]</text>\n<text text-anchor=\"middle\" x=\"120\" y=\"-111.8\" font-family=\"Times,serif\" font-size=\"14.00\" fill=\"#000000\">class = versicolor</text>\n</g>\n<!-- 5&#45;&gt;6 -->\n<g id=\"edge6\" class=\"edge\">\n<title>5&#45;&gt;6</title>\n<path fill=\"none\" stroke=\"#000000\" d=\"M212.3353,-222.8796C201.1584,-213.513 189.2038,-203.4948 177.7288,-193.8784\"/>\n<polygon fill=\"#000000\" stroke=\"#000000\" points=\"179.7893,-191.0386 169.8767,-187.2981 175.2931,-196.4037 179.7893,-191.0386\"/>\n</g>\n<!-- 9 -->\n<g id=\"node10\" class=\"node\">\n<title>9</title>\n<polygon fill=\"#8139e5\" stroke=\"#000000\" points=\"329,-179.5 219,-179.5 219,-111.5 329,-111.5 329,-179.5\"/>\n<text text-anchor=\"middle\" x=\"274\" y=\"-164.3\" font-family=\"Times,serif\" font-size=\"14.00\" fill=\"#000000\">gini = 0.0</text>\n<text text-anchor=\"middle\" x=\"274\" y=\"-149.3\" font-family=\"Times,serif\" font-size=\"14.00\" fill=\"#000000\">samples = 3</text>\n<text text-anchor=\"middle\" x=\"274\" y=\"-134.3\" font-family=\"Times,serif\" font-size=\"14.00\" fill=\"#000000\">value = [0, 0, 3]</text>\n<text text-anchor=\"middle\" x=\"274\" y=\"-119.3\" font-family=\"Times,serif\" font-size=\"14.00\" fill=\"#000000\">class = virginica</text>\n</g>\n<!-- 5&#45;&gt;9 -->\n<g id=\"edge9\" class=\"edge\">\n<title>5&#45;&gt;9</title>\n<path fill=\"none\" stroke=\"#000000\" d=\"M266.197,-222.8796C267.2726,-212.2134 268.4334,-200.7021 269.5225,-189.9015\"/>\n<polygon fill=\"#000000\" stroke=\"#000000\" points=\"273.0186,-190.1157 270.5397,-179.8149 266.0539,-189.4133 273.0186,-190.1157\"/>\n</g>\n<!-- 7 -->\n<g id=\"node8\" class=\"node\">\n<title>7</title>\n<polygon fill=\"#8139e5\" stroke=\"#000000\" points=\"110,-68 0,-68 0,0 110,0 110,-68\"/>\n<text text-anchor=\"middle\" x=\"55\" y=\"-52.8\" font-family=\"Times,serif\" font-size=\"14.00\" fill=\"#000000\">gini = 0.0</text>\n<text text-anchor=\"middle\" x=\"55\" y=\"-37.8\" font-family=\"Times,serif\" font-size=\"14.00\" fill=\"#000000\">samples = 1</text>\n<text text-anchor=\"middle\" x=\"55\" y=\"-22.8\" font-family=\"Times,serif\" font-size=\"14.00\" fill=\"#000000\">value = [0, 0, 1]</text>\n<text text-anchor=\"middle\" x=\"55\" y=\"-7.8\" font-family=\"Times,serif\" font-size=\"14.00\" fill=\"#000000\">class = virginica</text>\n</g>\n<!-- 6&#45;&gt;7 -->\n<g id=\"edge7\" class=\"edge\">\n<title>6&#45;&gt;7</title>\n<path fill=\"none\" stroke=\"#000000\" d=\"M95.7964,-103.9815C90.6529,-95.1585 85.2123,-85.8258 80.0384,-76.9506\"/>\n<polygon fill=\"#000000\" stroke=\"#000000\" points=\"83.0344,-75.1402 74.9743,-68.2637 76.987,-78.6656 83.0344,-75.1402\"/>\n</g>\n<!-- 8 -->\n<g id=\"node9\" class=\"node\">\n<title>8</title>\n<polygon fill=\"#39e581\" stroke=\"#000000\" points=\"243.5,-68 128.5,-68 128.5,0 243.5,0 243.5,-68\"/>\n<text text-anchor=\"middle\" x=\"186\" y=\"-52.8\" font-family=\"Times,serif\" font-size=\"14.00\" fill=\"#000000\">gini = 0.0</text>\n<text text-anchor=\"middle\" x=\"186\" y=\"-37.8\" font-family=\"Times,serif\" font-size=\"14.00\" fill=\"#000000\">samples = 1</text>\n<text text-anchor=\"middle\" x=\"186\" y=\"-22.8\" font-family=\"Times,serif\" font-size=\"14.00\" fill=\"#000000\">value = [0, 1, 0]</text>\n<text text-anchor=\"middle\" x=\"186\" y=\"-7.8\" font-family=\"Times,serif\" font-size=\"14.00\" fill=\"#000000\">class = versicolor</text>\n</g>\n<!-- 6&#45;&gt;8 -->\n<g id=\"edge8\" class=\"edge\">\n<title>6&#45;&gt;8</title>\n<path fill=\"none\" stroke=\"#000000\" d=\"M144.576,-103.9815C149.7986,-95.1585 155.3229,-85.8258 160.5763,-76.9506\"/>\n<polygon fill=\"#000000\" stroke=\"#000000\" points=\"163.6364,-78.652 165.7184,-68.2637 157.6126,-75.0863 163.6364,-78.652\"/>\n</g>\n<!-- 11 -->\n<g id=\"node12\" class=\"node\">\n<title>11</title>\n<polygon fill=\"#c09cf2\" stroke=\"#000000\" points=\"518.5,-306 363.5,-306 363.5,-223 518.5,-223 518.5,-306\"/>\n<text text-anchor=\"middle\" x=\"441\" y=\"-290.8\" font-family=\"Times,serif\" font-size=\"14.00\" fill=\"#000000\">sepal width (cm) &lt;= 3.1</text>\n<text text-anchor=\"middle\" x=\"441\" y=\"-275.8\" font-family=\"Times,serif\" font-size=\"14.00\" fill=\"#000000\">gini = 0.444</text>\n<text text-anchor=\"middle\" x=\"441\" y=\"-260.8\" font-family=\"Times,serif\" font-size=\"14.00\" fill=\"#000000\">samples = 3</text>\n<text text-anchor=\"middle\" x=\"441\" y=\"-245.8\" font-family=\"Times,serif\" font-size=\"14.00\" fill=\"#000000\">value = [0, 1, 2]</text>\n<text text-anchor=\"middle\" x=\"441\" y=\"-230.8\" font-family=\"Times,serif\" font-size=\"14.00\" fill=\"#000000\">class = virginica</text>\n</g>\n<!-- 10&#45;&gt;11 -->\n<g id=\"edge11\" class=\"edge\">\n<title>10&#45;&gt;11</title>\n<path fill=\"none\" stroke=\"#000000\" d=\"M441.6502,-341.8796C441.5814,-333.6838 441.5083,-324.9891 441.437,-316.5013\"/>\n<polygon fill=\"#000000\" stroke=\"#000000\" points=\"444.9352,-316.2683 441.3512,-306.2981 437.9355,-316.3272 444.9352,-316.2683\"/>\n</g>\n<!-- 14 -->\n<g id=\"node15\" class=\"node\">\n<title>14</title>\n<polygon fill=\"#8139e5\" stroke=\"#000000\" points=\"653.5,-298.5 536.5,-298.5 536.5,-230.5 653.5,-230.5 653.5,-298.5\"/>\n<text text-anchor=\"middle\" x=\"595\" y=\"-283.3\" font-family=\"Times,serif\" font-size=\"14.00\" fill=\"#000000\">gini = 0.0</text>\n<text text-anchor=\"middle\" x=\"595\" y=\"-268.3\" font-family=\"Times,serif\" font-size=\"14.00\" fill=\"#000000\">samples = 40</text>\n<text text-anchor=\"middle\" x=\"595\" y=\"-253.3\" font-family=\"Times,serif\" font-size=\"14.00\" fill=\"#000000\">value = [0, 0, 40]</text>\n<text text-anchor=\"middle\" x=\"595\" y=\"-238.3\" font-family=\"Times,serif\" font-size=\"14.00\" fill=\"#000000\">class = virginica</text>\n</g>\n<!-- 10&#45;&gt;14 -->\n<g id=\"edge14\" class=\"edge\">\n<title>10&#45;&gt;14</title>\n<path fill=\"none\" stroke=\"#000000\" d=\"M495.512,-341.8796C510.7808,-330.0038 527.3966,-317.0804 542.5984,-305.2568\"/>\n<polygon fill=\"#000000\" stroke=\"#000000\" points=\"545.1361,-307.7171 550.8808,-298.8149 540.8384,-302.1916 545.1361,-307.7171\"/>\n</g>\n<!-- 12 -->\n<g id=\"node13\" class=\"node\">\n<title>12</title>\n<polygon fill=\"#8139e5\" stroke=\"#000000\" points=\"484,-179.5 374,-179.5 374,-111.5 484,-111.5 484,-179.5\"/>\n<text text-anchor=\"middle\" x=\"429\" y=\"-164.3\" font-family=\"Times,serif\" font-size=\"14.00\" fill=\"#000000\">gini = 0.0</text>\n<text text-anchor=\"middle\" x=\"429\" y=\"-149.3\" font-family=\"Times,serif\" font-size=\"14.00\" fill=\"#000000\">samples = 2</text>\n<text text-anchor=\"middle\" x=\"429\" y=\"-134.3\" font-family=\"Times,serif\" font-size=\"14.00\" fill=\"#000000\">value = [0, 0, 2]</text>\n<text text-anchor=\"middle\" x=\"429\" y=\"-119.3\" font-family=\"Times,serif\" font-size=\"14.00\" fill=\"#000000\">class = virginica</text>\n</g>\n<!-- 11&#45;&gt;12 -->\n<g id=\"edge12\" class=\"edge\">\n<title>11&#45;&gt;12</title>\n<path fill=\"none\" stroke=\"#000000\" d=\"M436.803,-222.8796C435.7274,-212.2134 434.5666,-200.7021 433.4775,-189.9015\"/>\n<polygon fill=\"#000000\" stroke=\"#000000\" points=\"436.9461,-189.4133 432.4603,-179.8149 429.9814,-190.1157 436.9461,-189.4133\"/>\n</g>\n<!-- 13 -->\n<g id=\"node14\" class=\"node\">\n<title>13</title>\n<polygon fill=\"#39e581\" stroke=\"#000000\" points=\"617.5,-179.5 502.5,-179.5 502.5,-111.5 617.5,-111.5 617.5,-179.5\"/>\n<text text-anchor=\"middle\" x=\"560\" y=\"-164.3\" font-family=\"Times,serif\" font-size=\"14.00\" fill=\"#000000\">gini = 0.0</text>\n<text text-anchor=\"middle\" x=\"560\" y=\"-149.3\" font-family=\"Times,serif\" font-size=\"14.00\" fill=\"#000000\">samples = 1</text>\n<text text-anchor=\"middle\" x=\"560\" y=\"-134.3\" font-family=\"Times,serif\" font-size=\"14.00\" fill=\"#000000\">value = [0, 1, 0]</text>\n<text text-anchor=\"middle\" x=\"560\" y=\"-119.3\" font-family=\"Times,serif\" font-size=\"14.00\" fill=\"#000000\">class = versicolor</text>\n</g>\n<!-- 11&#45;&gt;13 -->\n<g id=\"edge13\" class=\"edge\">\n<title>11&#45;&gt;13</title>\n<path fill=\"none\" stroke=\"#000000\" d=\"M482.6204,-222.8796C494.2763,-211.2237 506.9413,-198.5587 518.5852,-186.9148\"/>\n<polygon fill=\"#000000\" stroke=\"#000000\" points=\"521.0889,-189.3609 525.6851,-179.8149 516.1391,-184.4111 521.0889,-189.3609\"/>\n</g>\n</g>\n</svg>\n"
          },
          "metadata": {
            "tags": []
          },
          "execution_count": 19
        }
      ]
    }
  ]
}