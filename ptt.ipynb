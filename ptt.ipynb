{
  "nbformat": 4,
  "nbformat_minor": 0,
  "metadata": {
    "colab": {
      "name": "ptt.ipynb",
      "provenance": []
    },
    "kernelspec": {
      "name": "python3",
      "display_name": "Python 3"
    },
    "accelerator": "GPU"
  },
  "cells": [
    {
      "cell_type": "code",
      "metadata": {
        "id": "FtR2VsQtAKwO",
        "colab_type": "code",
        "colab": {
          "base_uri": "https://localhost:8080/",
          "height": 34
        },
        "outputId": "6dcda069-975f-4df0-aa43-bd00872a9cf6"
      },
      "source": [
        "from urllib.request import urlretrieve\n",
        "# 資料集\n",
        "url = \"https://github.com/Elwing-Chou/tt0517/raw/master/pttexsmall.csv\"\n",
        "urlretrieve(url, \"ptt.csv\")\n",
        "# jieba大辭典\n",
        "url = \"https://github.com/fxsjy/jieba/raw/master/extra_dict/dict.txt.big\"\n",
        "urlretrieve(url, \"dict.jieba.big\")\n",
        "# ptt專用詞彙\n",
        "url = \"https://github.com/Elwing-Chou/tt0517/raw/master/ptt_dic.txt\"\n",
        "urlretrieve(url, \"dict.ptt\")"
      ],
      "execution_count": 1,
      "outputs": [
        {
          "output_type": "execute_result",
          "data": {
            "text/plain": [
              "('dict.ptt', <http.client.HTTPMessage at 0x7f4a48634a20>)"
            ]
          },
          "metadata": {
            "tags": []
          },
          "execution_count": 1
        }
      ]
    },
    {
      "cell_type": "code",
      "metadata": {
        "id": "Gg8kWBaXByKl",
        "colab_type": "code",
        "colab": {
          "base_uri": "https://localhost:8080/",
          "height": 84
        },
        "outputId": "ae1f62e8-7f31-4709-c448-8f12064180ff"
      },
      "source": [
        "import jieba\n",
        "jieba.set_dictionary(\"dict.jieba.big\")\n",
        "jieba.load_userdict(\"dict.ptt\")"
      ],
      "execution_count": 2,
      "outputs": [
        {
          "output_type": "stream",
          "text": [
            "Building prefix dict from /content/dict.jieba.big ...\n",
            "Dumping model to file cache /tmp/jieba.ude312db176676e4f808d1d24e4092662.cache\n",
            "Loading model cost 1.563 seconds.\n",
            "Prefix dict has been built successfully.\n"
          ],
          "name": "stderr"
        }
      ]
    },
    {
      "cell_type": "code",
      "metadata": {
        "id": "Uuc-PWJ5BTQQ",
        "colab_type": "code",
        "colab": {
          "base_uri": "https://localhost:8080/",
          "height": 588
        },
        "outputId": "875ec7c4-7892-4644-efc7-0e9a2f9d5c54"
      },
      "source": [
        "import pandas as pd\n",
        "df = pd.read_csv(\"ptt.csv\")\n",
        "df"
      ],
      "execution_count": 3,
      "outputs": [
        {
          "output_type": "execute_result",
          "data": {
            "text/html": [
              "<div>\n",
              "<style scoped>\n",
              "    .dataframe tbody tr th:only-of-type {\n",
              "        vertical-align: middle;\n",
              "    }\n",
              "\n",
              "    .dataframe tbody tr th {\n",
              "        vertical-align: top;\n",
              "    }\n",
              "\n",
              "    .dataframe thead th {\n",
              "        text-align: right;\n",
              "    }\n",
              "</style>\n",
              "<table border=\"1\" class=\"dataframe\">\n",
              "  <thead>\n",
              "    <tr style=\"text-align: right;\">\n",
              "      <th></th>\n",
              "      <th>type</th>\n",
              "      <th>title</th>\n",
              "      <th>content</th>\n",
              "    </tr>\n",
              "  </thead>\n",
              "  <tbody>\n",
              "    <tr>\n",
              "      <th>0</th>\n",
              "      <td>問卦</td>\n",
              "      <td>小北若去日本展店 會被唐吉一拳打死嗎?</td>\n",
              "      <td>\\n號稱台灣版驚安の殿堂的小北百貨\\n\\n24小時全年無休五金百貨生活百貨應有盡有\\n\\n在...</td>\n",
              "    </tr>\n",
              "    <tr>\n",
              "      <th>1</th>\n",
              "      <td>新聞</td>\n",
              "      <td>自排入不分區立委？ 李昭平：吳敦義從沒</td>\n",
              "      <td>\\n※發文無1~6小標格式或未依順序任意刪除者會被刪文\\n\\n1.媒體來源:聯合報\\n※ 例...</td>\n",
              "    </tr>\n",
              "    <tr>\n",
              "      <th>2</th>\n",
              "      <td>問卦</td>\n",
              "      <td>有沒有這波警察被桶覺青消失的八卦？</td>\n",
              "      <td>\\n\\n疑？阿不是只要有警察的新聞出現在八卦版\\n八卦覺青就會高潮？\\n每次不是都愛拿太陽花...</td>\n",
              "    </tr>\n",
              "    <tr>\n",
              "      <th>3</th>\n",
              "      <td>新聞</td>\n",
              "      <td>謝鑫佑被唬到大 小說寫覆鼎金多年後成預言</td>\n",
              "      <td>\\n謝鑫佑被唬到大 小說寫覆鼎金多年後成預言\\n\\n（中央社記者鄭景雯台北3日電）「我跟馬奎...</td>\n",
              "    </tr>\n",
              "    <tr>\n",
              "      <th>4</th>\n",
              "      <td>新聞</td>\n",
              "      <td>促韓國瑜辭職 高市藍綠議員爆肢體衝突</td>\n",
              "      <td>\\n※發文無1~6小標格式或未依順序任意刪除者會被刪文\\n\\n1.媒體來源:\\n※ 例如蘋果...</td>\n",
              "    </tr>\n",
              "    <tr>\n",
              "      <th>...</th>\n",
              "      <td>...</td>\n",
              "      <td>...</td>\n",
              "      <td>...</td>\n",
              "    </tr>\n",
              "    <tr>\n",
              "      <th>19995</th>\n",
              "      <td>問卦</td>\n",
              "      <td>你各位會以碗就口嗎？？？</td>\n",
              "      <td>\\n\\n乳題，是這樣啦\\n小弟現在出來吃飯，環顧四周\\n以碗就口的包括我就只有兩個\\n其他的...</td>\n",
              "    </tr>\n",
              "    <tr>\n",
              "      <th>19996</th>\n",
              "      <td>問卦</td>\n",
              "      <td>握推手腕到底可不可以彎阿？</td>\n",
              "      <td>\\n\\n\\n各位巨巨大家晚安大家好\\n小弟是習慣不彎喇\\n就是往上推時手腕跟手臂成一直線\\n...</td>\n",
              "    </tr>\n",
              "    <tr>\n",
              "      <th>19997</th>\n",
              "      <td>問卦</td>\n",
              "      <td>佐佐木美玲的中文程度到底如何？</td>\n",
              "      <td>\\nhttps://imgur.com/Lm0FbuA.jpg\\n\\n佐佐木美玲小時候曾經住...</td>\n",
              "    </tr>\n",
              "    <tr>\n",
              "      <th>19998</th>\n",
              "      <td>問卦</td>\n",
              "      <td>欸欸欸 講話是不是一定要多XD比較好?</td>\n",
              "      <td>\\n乳體\\n\\n是這樣的拉XD\\n\\n本肥宅常常看到有人在網路上亂嗆人\\n\\n結果就被對方吉...</td>\n",
              "    </tr>\n",
              "    <tr>\n",
              "      <th>19999</th>\n",
              "      <td>問卦</td>\n",
              "      <td>Ptt棋院怎麼沒有黑白棋?</td>\n",
              "      <td>\\n黑白棋的介面在Ptt上面應該不難設計才對\\n\\n日本人超愛下黑白棋，風行程度更是超過日本...</td>\n",
              "    </tr>\n",
              "  </tbody>\n",
              "</table>\n",
              "<p>20000 rows × 3 columns</p>\n",
              "</div>"
            ],
            "text/plain": [
              "      type  ...                                            content\n",
              "0       問卦  ...  \\n號稱台灣版驚安の殿堂的小北百貨\\n\\n24小時全年無休五金百貨生活百貨應有盡有\\n\\n在...\n",
              "1       新聞  ...  \\n※發文無1~6小標格式或未依順序任意刪除者會被刪文\\n\\n1.媒體來源:聯合報\\n※ 例...\n",
              "2       問卦  ...  \\n\\n疑？阿不是只要有警察的新聞出現在八卦版\\n八卦覺青就會高潮？\\n每次不是都愛拿太陽花...\n",
              "3       新聞  ...  \\n謝鑫佑被唬到大 小說寫覆鼎金多年後成預言\\n\\n（中央社記者鄭景雯台北3日電）「我跟馬奎...\n",
              "4       新聞  ...  \\n※發文無1~6小標格式或未依順序任意刪除者會被刪文\\n\\n1.媒體來源:\\n※ 例如蘋果...\n",
              "...    ...  ...                                                ...\n",
              "19995   問卦  ...  \\n\\n乳題，是這樣啦\\n小弟現在出來吃飯，環顧四周\\n以碗就口的包括我就只有兩個\\n其他的...\n",
              "19996   問卦  ...  \\n\\n\\n各位巨巨大家晚安大家好\\n小弟是習慣不彎喇\\n就是往上推時手腕跟手臂成一直線\\n...\n",
              "19997   問卦  ...  \\nhttps://imgur.com/Lm0FbuA.jpg\\n\\n佐佐木美玲小時候曾經住...\n",
              "19998   問卦  ...  \\n乳體\\n\\n是這樣的拉XD\\n\\n本肥宅常常看到有人在網路上亂嗆人\\n\\n結果就被對方吉...\n",
              "19999   問卦  ...  \\n黑白棋的介面在Ptt上面應該不難設計才對\\n\\n日本人超愛下黑白棋，風行程度更是超過日本...\n",
              "\n",
              "[20000 rows x 3 columns]"
            ]
          },
          "metadata": {
            "tags": []
          },
          "execution_count": 3
        }
      ]
    },
    {
      "cell_type": "code",
      "metadata": {
        "id": "idS2K1_ZgMIL",
        "colab_type": "code",
        "colab": {
          "base_uri": "https://localhost:8080/",
          "height": 221
        },
        "outputId": "32c6cabd-247e-4500-a78c-174cbc86bf05"
      },
      "source": [
        "import re\n",
        "def pttcut(content):\n",
        "    content = re.sub(r'https?:\\/\\/.*[\\r\\n]*', '', content)\n",
        "    punct = set(u''':!),.:;?]}¢'\"、。〉》」』】〕〗〞︰︱︳﹐､﹒﹔﹕﹖﹗﹚﹜﹞！），．：；？｜｝︴︶︸︺︼︾﹀﹂﹄﹏､～￠々‖•·ˇˉ―--′’”([{£¥'\"‵〈《「『【〔〖（［｛￡￥〝︵︷︹︻︽︿﹁﹃﹙﹛﹝（｛“‘-—_…~/ －＊➜■─★☆=@<>◉é''')\n",
        "    content = filter(lambda x: x not in punct, jieba.cut(content))\n",
        "    return \" \".join(content)\n",
        "x_train = df[\"content\"].apply(pttcut)\n",
        "x_train"
      ],
      "execution_count": 6,
      "outputs": [
        {
          "output_type": "execute_result",
          "data": {
            "text/plain": [
              "0        \\n 號稱 台灣版 驚安 の 殿堂 的 小北 百貨 \\n \\n 24 小時 全年 無休 五金...\n",
              "1        \\n ※ 發文 無 1 6 小 標格 式 或 未 依 順序 任意 刪除 者 會 被刪 文 \\...\n",
              "2        \\n \\n 疑 阿 不是 只要 有 警察 的 新聞 出現 在 八卦 版 \\n 八卦 覺青 就...\n",
              "3        \\n 謝鑫佑 被 唬 到 大 小說 寫 覆鼎金 多年 後 成 預言 \\n \\n 中央社 記者...\n",
              "4        \\n ※ 發文 無 1 6 小 標格 式 或 未 依 順序 任意 刪除 者 會 被刪 文 \\...\n",
              "                               ...                        \n",
              "19995    \\n \\n 乳題 是 這樣 啦 \\n 小弟 現在 出來 吃飯 環顧四周 \\n 以碗 就 口 ...\n",
              "19996    \\n \\n \\n 各位 巨 巨大 家 晚安 大家 好 \\n 小弟 是 習慣 不彎 喇 \\n ...\n",
              "19997    \\n 佐佐木 美玲 小時候 曾經 住過 台灣 \\n \\n 也 曾 在 節目 中 透露 這段 ...\n",
              "19998    \\n 乳體 \\n \\n 是 這樣 的 拉 XD \\n \\n 本 肥宅 常常 看到 有人 在 ...\n",
              "19999    \\n 黑白棋 的 介面 在 Ptt 上面 應該 不難 設計 才 對 \\n \\n 日本 人 超...\n",
              "Name: content, Length: 20000, dtype: object"
            ]
          },
          "metadata": {
            "tags": []
          },
          "execution_count": 6
        }
      ]
    },
    {
      "cell_type": "code",
      "metadata": {
        "id": "fLl5y8F6ig8e",
        "colab_type": "code",
        "colab": {}
      },
      "source": [
        "with open(\"ptt_cut.txt\", \"w\", encoding=\"utf-8\") as f:\n",
        "    for post in x_train:\n",
        "        f.write(post)\n",
        "        f.write(\"\\n\")"
      ],
      "execution_count": 7,
      "outputs": []
    },
    {
      "cell_type": "code",
      "metadata": {
        "id": "LigoRMj3nLL8",
        "colab_type": "code",
        "colab": {}
      },
      "source": [
        "from gensim.models.word2vec import LineSentence, Word2Vec\n",
        "sentences = LineSentence(\"ptt_cut.txt\")\n",
        "w2v = Word2Vec(sentences)"
      ],
      "execution_count": null,
      "outputs": []
    },
    {
      "cell_type": "code",
      "metadata": {
        "id": "MHUdxa6Pn_Xb",
        "colab_type": "code",
        "colab": {
          "base_uri": "https://localhost:8080/",
          "height": 425
        },
        "outputId": "f2437aae-e132-4c40-ad3c-d50e27a5a0b7"
      },
      "source": [
        "print(len(w2v.wv.vocab))\n",
        "print(\"肥宅\" in w2v.wv.vocab)\n",
        "print(\"Elwing\" in w2v.wv.vocab)\n",
        "w2v.wv[\"肥宅\"]"
      ],
      "execution_count": 15,
      "outputs": [
        {
          "output_type": "stream",
          "text": [
            "41598\n",
            "True\n",
            "False\n"
          ],
          "name": "stdout"
        },
        {
          "output_type": "execute_result",
          "data": {
            "text/plain": [
              "array([ 0.3483553 , -0.91893536,  1.1481823 ,  1.0877024 , -1.9462411 ,\n",
              "        1.2657268 ,  0.3532436 , -0.23871022,  1.5988963 , -2.1952891 ,\n",
              "       -0.62820184, -0.15007915,  1.0980128 , -0.7489795 ,  0.7415271 ,\n",
              "        1.322081  , -2.1125407 ,  0.47472447,  0.27905568,  2.0230913 ,\n",
              "        0.75710183, -0.28923336, -0.11264541,  0.46829134, -0.37971044,\n",
              "        1.5526179 ,  0.36431426,  2.978253  ,  0.9626887 , -0.36512348,\n",
              "        0.30517462, -3.2918584 ,  0.08433739, -0.8210047 ,  0.7460904 ,\n",
              "       -0.27565908,  0.69878626,  2.855786  , -0.00406577,  0.20965087,\n",
              "       -0.36815366,  0.24764176, -1.7548658 , -0.04999756,  0.78908527,\n",
              "       -0.08093891,  2.0007448 , -1.3299731 , -0.24704726,  1.7617028 ,\n",
              "       -1.0547035 , -0.41126552,  2.5262485 , -2.5017936 , -0.59185475,\n",
              "       -1.1878206 ,  0.08791074, -1.0997118 , -0.21023941,  0.0134779 ,\n",
              "       -0.22251284,  0.5048266 ,  0.64188063, -0.01679846, -0.7251097 ,\n",
              "        0.37462968, -0.01808148, -0.2140672 ,  0.24152203,  1.4785907 ,\n",
              "       -0.81406736,  0.55499154, -0.49696574,  0.6752761 , -0.56253564,\n",
              "       -0.77273554,  1.6072752 ,  1.881439  , -0.7909249 , -1.334841  ,\n",
              "        0.9959814 , -0.01572444,  0.7250229 ,  0.4722167 , -0.92932   ,\n",
              "       -0.61783004, -1.281253  , -0.06190031, -1.4969624 , -0.618349  ,\n",
              "       -0.22628017,  1.0247916 , -0.7631211 , -1.5831789 , -0.16144922,\n",
              "       -1.8285011 ,  0.5852065 , -0.82183754, -0.82117826, -1.1913301 ],\n",
              "      dtype=float32)"
            ]
          },
          "metadata": {
            "tags": []
          },
          "execution_count": 15
        }
      ]
    },
    {
      "cell_type": "code",
      "metadata": {
        "id": "pElzcqzZqM3g",
        "colab_type": "code",
        "colab": {
          "base_uri": "https://localhost:8080/",
          "height": 241
        },
        "outputId": "c42f7788-342b-4277-ecf5-9d45f4caa370"
      },
      "source": [
        "w2v.wv.most_similar(\"肥宅\")"
      ],
      "execution_count": 16,
      "outputs": [
        {
          "output_type": "stream",
          "text": [
            "/usr/local/lib/python3.6/dist-packages/gensim/matutils.py:737: FutureWarning: Conversion of the second argument of issubdtype from `int` to `np.signedinteger` is deprecated. In future, it will be treated as `np.int64 == np.dtype(int).type`.\n",
            "  if np.issubdtype(vec.dtype, np.int):\n"
          ],
          "name": "stderr"
        },
        {
          "output_type": "execute_result",
          "data": {
            "text/plain": [
              "[('肥肥', 0.8454233407974243),\n",
              " ('阿肥', 0.7805300354957581),\n",
              " ('魯蛇', 0.7782093286514282),\n",
              " ('小妹', 0.7635883092880249),\n",
              " ('本肥', 0.7591144442558289),\n",
              " ('烤肉', 0.7408611178398132),\n",
              " ('小弟', 0.7257945537567139),\n",
              " ('學長', 0.7236451506614685),\n",
              " ('女朋友', 0.7234905958175659),\n",
              " ('女孩兒', 0.7225207686424255)]"
            ]
          },
          "metadata": {
            "tags": []
          },
          "execution_count": 16
        }
      ]
    },
    {
      "cell_type": "code",
      "metadata": {
        "id": "fxGEJHM-qv8e",
        "colab_type": "code",
        "colab": {
          "base_uri": "https://localhost:8080/",
          "height": 88
        },
        "outputId": "d6ab1bf5-4f3d-4f4c-8c05-c2b976ed4b5d"
      },
      "source": [
        "w2v.wv.similarity(\"肥宅\", \"妹子\")"
      ],
      "execution_count": 20,
      "outputs": [
        {
          "output_type": "stream",
          "text": [
            "/usr/local/lib/python3.6/dist-packages/gensim/matutils.py:737: FutureWarning: Conversion of the second argument of issubdtype from `int` to `np.signedinteger` is deprecated. In future, it will be treated as `np.int64 == np.dtype(int).type`.\n",
            "  if np.issubdtype(vec.dtype, np.int):\n"
          ],
          "name": "stderr"
        },
        {
          "output_type": "execute_result",
          "data": {
            "text/plain": [
              "0.7066223"
            ]
          },
          "metadata": {
            "tags": []
          },
          "execution_count": 20
        }
      ]
    }
  ]
}