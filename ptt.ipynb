{
  "nbformat": 4,
  "nbformat_minor": 0,
  "metadata": {
    "colab": {
      "name": "ptt.ipynb",
      "provenance": []
    },
    "kernelspec": {
      "name": "python3",
      "display_name": "Python 3"
    },
    "accelerator": "GPU"
  },
  "cells": [
    {
      "cell_type": "code",
      "metadata": {
        "id": "FtR2VsQtAKwO",
        "colab_type": "code",
        "colab": {
          "base_uri": "https://localhost:8080/",
          "height": 34
        },
        "outputId": "6dcda069-975f-4df0-aa43-bd00872a9cf6"
      },
      "source": [
        "from urllib.request import urlretrieve\n",
        "# 資料集\n",
        "url = \"https://github.com/Elwing-Chou/tt0517/raw/master/pttexsmall.csv\"\n",
        "urlretrieve(url, \"ptt.csv\")\n",
        "# jieba大辭典\n",
        "url = \"https://github.com/fxsjy/jieba/raw/master/extra_dict/dict.txt.big\"\n",
        "urlretrieve(url, \"dict.jieba.big\")\n",
        "# ptt專用詞彙\n",
        "url = \"https://github.com/Elwing-Chou/tt0517/raw/master/ptt_dic.txt\"\n",
        "urlretrieve(url, \"dict.ptt\")"
      ],
      "execution_count": 1,
      "outputs": [
        {
          "output_type": "execute_result",
          "data": {
            "text/plain": [
              "('dict.ptt', <http.client.HTTPMessage at 0x7f4a48634a20>)"
            ]
          },
          "metadata": {
            "tags": []
          },
          "execution_count": 1
        }
      ]
    },
    {
      "cell_type": "code",
      "metadata": {
        "id": "Gg8kWBaXByKl",
        "colab_type": "code",
        "colab": {
          "base_uri": "https://localhost:8080/",
          "height": 84
        },
        "outputId": "ae1f62e8-7f31-4709-c448-8f12064180ff"
      },
      "source": [
        "import jieba\n",
        "jieba.set_dictionary(\"dict.jieba.big\")\n",
        "jieba.load_userdict(\"dict.ptt\")"
      ],
      "execution_count": 2,
      "outputs": [
        {
          "output_type": "stream",
          "text": [
            "Building prefix dict from /content/dict.jieba.big ...\n",
            "Dumping model to file cache /tmp/jieba.ude312db176676e4f808d1d24e4092662.cache\n",
            "Loading model cost 1.563 seconds.\n",
            "Prefix dict has been built successfully.\n"
          ],
          "name": "stderr"
        }
      ]
    },
    {
      "cell_type": "code",
      "metadata": {
        "id": "Uuc-PWJ5BTQQ",
        "colab_type": "code",
        "colab": {
          "base_uri": "https://localhost:8080/",
          "height": 588
        },
        "outputId": "875ec7c4-7892-4644-efc7-0e9a2f9d5c54"
      },
      "source": [
        "import pandas as pd\n",
        "df = pd.read_csv(\"ptt.csv\")\n",
        "df"
      ],
      "execution_count": 3,
      "outputs": [
        {
          "output_type": "execute_result",
          "data": {
            "text/html": [
              "<div>\n",
              "<style scoped>\n",
              "    .dataframe tbody tr th:only-of-type {\n",
              "        vertical-align: middle;\n",
              "    }\n",
              "\n",
              "    .dataframe tbody tr th {\n",
              "        vertical-align: top;\n",
              "    }\n",
              "\n",
              "    .dataframe thead th {\n",
              "        text-align: right;\n",
              "    }\n",
              "</style>\n",
              "<table border=\"1\" class=\"dataframe\">\n",
              "  <thead>\n",
              "    <tr style=\"text-align: right;\">\n",
              "      <th></th>\n",
              "      <th>type</th>\n",
              "      <th>title</th>\n",
              "      <th>content</th>\n",
              "    </tr>\n",
              "  </thead>\n",
              "  <tbody>\n",
              "    <tr>\n",
              "      <th>0</th>\n",
              "      <td>問卦</td>\n",
              "      <td>小北若去日本展店 會被唐吉一拳打死嗎?</td>\n",
              "      <td>\\n號稱台灣版驚安の殿堂的小北百貨\\n\\n24小時全年無休五金百貨生活百貨應有盡有\\n\\n在...</td>\n",
              "    </tr>\n",
              "    <tr>\n",
              "      <th>1</th>\n",
              "      <td>新聞</td>\n",
              "      <td>自排入不分區立委？ 李昭平：吳敦義從沒</td>\n",
              "      <td>\\n※發文無1~6小標格式或未依順序任意刪除者會被刪文\\n\\n1.媒體來源:聯合報\\n※ 例...</td>\n",
              "    </tr>\n",
              "    <tr>\n",
              "      <th>2</th>\n",
              "      <td>問卦</td>\n",
              "      <td>有沒有這波警察被桶覺青消失的八卦？</td>\n",
              "      <td>\\n\\n疑？阿不是只要有警察的新聞出現在八卦版\\n八卦覺青就會高潮？\\n每次不是都愛拿太陽花...</td>\n",
              "    </tr>\n",
              "    <tr>\n",
              "      <th>3</th>\n",
              "      <td>新聞</td>\n",
              "      <td>謝鑫佑被唬到大 小說寫覆鼎金多年後成預言</td>\n",
              "      <td>\\n謝鑫佑被唬到大 小說寫覆鼎金多年後成預言\\n\\n（中央社記者鄭景雯台北3日電）「我跟馬奎...</td>\n",
              "    </tr>\n",
              "    <tr>\n",
              "      <th>4</th>\n",
              "      <td>新聞</td>\n",
              "      <td>促韓國瑜辭職 高市藍綠議員爆肢體衝突</td>\n",
              "      <td>\\n※發文無1~6小標格式或未依順序任意刪除者會被刪文\\n\\n1.媒體來源:\\n※ 例如蘋果...</td>\n",
              "    </tr>\n",
              "    <tr>\n",
              "      <th>...</th>\n",
              "      <td>...</td>\n",
              "      <td>...</td>\n",
              "      <td>...</td>\n",
              "    </tr>\n",
              "    <tr>\n",
              "      <th>19995</th>\n",
              "      <td>問卦</td>\n",
              "      <td>你各位會以碗就口嗎？？？</td>\n",
              "      <td>\\n\\n乳題，是這樣啦\\n小弟現在出來吃飯，環顧四周\\n以碗就口的包括我就只有兩個\\n其他的...</td>\n",
              "    </tr>\n",
              "    <tr>\n",
              "      <th>19996</th>\n",
              "      <td>問卦</td>\n",
              "      <td>握推手腕到底可不可以彎阿？</td>\n",
              "      <td>\\n\\n\\n各位巨巨大家晚安大家好\\n小弟是習慣不彎喇\\n就是往上推時手腕跟手臂成一直線\\n...</td>\n",
              "    </tr>\n",
              "    <tr>\n",
              "      <th>19997</th>\n",
              "      <td>問卦</td>\n",
              "      <td>佐佐木美玲的中文程度到底如何？</td>\n",
              "      <td>\\nhttps://imgur.com/Lm0FbuA.jpg\\n\\n佐佐木美玲小時候曾經住...</td>\n",
              "    </tr>\n",
              "    <tr>\n",
              "      <th>19998</th>\n",
              "      <td>問卦</td>\n",
              "      <td>欸欸欸 講話是不是一定要多XD比較好?</td>\n",
              "      <td>\\n乳體\\n\\n是這樣的拉XD\\n\\n本肥宅常常看到有人在網路上亂嗆人\\n\\n結果就被對方吉...</td>\n",
              "    </tr>\n",
              "    <tr>\n",
              "      <th>19999</th>\n",
              "      <td>問卦</td>\n",
              "      <td>Ptt棋院怎麼沒有黑白棋?</td>\n",
              "      <td>\\n黑白棋的介面在Ptt上面應該不難設計才對\\n\\n日本人超愛下黑白棋，風行程度更是超過日本...</td>\n",
              "    </tr>\n",
              "  </tbody>\n",
              "</table>\n",
              "<p>20000 rows × 3 columns</p>\n",
              "</div>"
            ],
            "text/plain": [
              "      type  ...                                            content\n",
              "0       問卦  ...  \\n號稱台灣版驚安の殿堂的小北百貨\\n\\n24小時全年無休五金百貨生活百貨應有盡有\\n\\n在...\n",
              "1       新聞  ...  \\n※發文無1~6小標格式或未依順序任意刪除者會被刪文\\n\\n1.媒體來源:聯合報\\n※ 例...\n",
              "2       問卦  ...  \\n\\n疑？阿不是只要有警察的新聞出現在八卦版\\n八卦覺青就會高潮？\\n每次不是都愛拿太陽花...\n",
              "3       新聞  ...  \\n謝鑫佑被唬到大 小說寫覆鼎金多年後成預言\\n\\n（中央社記者鄭景雯台北3日電）「我跟馬奎...\n",
              "4       新聞  ...  \\n※發文無1~6小標格式或未依順序任意刪除者會被刪文\\n\\n1.媒體來源:\\n※ 例如蘋果...\n",
              "...    ...  ...                                                ...\n",
              "19995   問卦  ...  \\n\\n乳題，是這樣啦\\n小弟現在出來吃飯，環顧四周\\n以碗就口的包括我就只有兩個\\n其他的...\n",
              "19996   問卦  ...  \\n\\n\\n各位巨巨大家晚安大家好\\n小弟是習慣不彎喇\\n就是往上推時手腕跟手臂成一直線\\n...\n",
              "19997   問卦  ...  \\nhttps://imgur.com/Lm0FbuA.jpg\\n\\n佐佐木美玲小時候曾經住...\n",
              "19998   問卦  ...  \\n乳體\\n\\n是這樣的拉XD\\n\\n本肥宅常常看到有人在網路上亂嗆人\\n\\n結果就被對方吉...\n",
              "19999   問卦  ...  \\n黑白棋的介面在Ptt上面應該不難設計才對\\n\\n日本人超愛下黑白棋，風行程度更是超過日本...\n",
              "\n",
              "[20000 rows x 3 columns]"
            ]
          },
          "metadata": {
            "tags": []
          },
          "execution_count": 3
        }
      ]
    },
    {
      "cell_type": "code",
      "metadata": {
        "id": "idS2K1_ZgMIL",
        "colab_type": "code",
        "colab": {}
      },
      "source": [
        "import re\n",
        "def pttcut(content):\n",
        "    content = re.sub(r'https?:\\/\\/.*[\\r\\n]*', '', content)\n",
        "    punct = set(u''':!),.:;?]}¢'\"、。〉》」』】〕〗〞︰︱︳﹐､﹒﹔﹕﹖﹗﹚﹜﹞！），．：；？｜｝︴︶︸︺︼︾﹀﹂﹄﹏､～￠々‖•·ˇˉ―--′’”([{£¥'\"‵〈《「『【〔〖（［｛￡￥〝︵︷︹︻︽︿﹁﹃﹙﹛﹝（｛“‘-—_…~/ －＊➜■─★☆=@<>◉é''')\n",
        "    content = filter(lambda x: x not in punct, jieba.cut(content))\n",
        "    return \" \".join(content)\n",
        "x_train = df[\"content\"].apply(pttcut)\n",
        "x_train"
      ],
      "execution_count": null,
      "outputs": []
    }
  ]
}