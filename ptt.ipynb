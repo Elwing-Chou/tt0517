{
  "nbformat": 4,
  "nbformat_minor": 0,
  "metadata": {
    "colab": {
      "name": "ptt.ipynb",
      "provenance": []
    },
    "kernelspec": {
      "name": "python3",
      "display_name": "Python 3"
    },
    "accelerator": "GPU"
  },
  "cells": [
    {
      "cell_type": "code",
      "metadata": {
        "id": "FtR2VsQtAKwO",
        "colab_type": "code",
        "colab": {
          "base_uri": "https://localhost:8080/",
          "height": 34
        },
        "outputId": "6dcda069-975f-4df0-aa43-bd00872a9cf6"
      },
      "source": [
        "from urllib.request import urlretrieve\n",
        "# 資料集\n",
        "url = \"https://github.com/Elwing-Chou/tt0517/raw/master/pttexsmall.csv\"\n",
        "urlretrieve(url, \"ptt.csv\")\n",
        "# jieba大辭典\n",
        "url = \"https://github.com/fxsjy/jieba/raw/master/extra_dict/dict.txt.big\"\n",
        "urlretrieve(url, \"dict.jieba.big\")\n",
        "# ptt專用詞彙\n",
        "url = \"https://github.com/Elwing-Chou/tt0517/raw/master/ptt_dic.txt\"\n",
        "urlretrieve(url, \"dict.ptt\")"
      ],
      "execution_count": 1,
      "outputs": [
        {
          "output_type": "execute_result",
          "data": {
            "text/plain": [
              "('dict.ptt', <http.client.HTTPMessage at 0x7f4a48634a20>)"
            ]
          },
          "metadata": {
            "tags": []
          },
          "execution_count": 1
        }
      ]
    },
    {
      "cell_type": "code",
      "metadata": {
        "id": "Gg8kWBaXByKl",
        "colab_type": "code",
        "colab": {
          "base_uri": "https://localhost:8080/",
          "height": 84
        },
        "outputId": "ae1f62e8-7f31-4709-c448-8f12064180ff"
      },
      "source": [
        "import jieba\n",
        "jieba.set_dictionary(\"dict.jieba.big\")\n",
        "jieba.load_userdict(\"dict.ptt\")"
      ],
      "execution_count": 2,
      "outputs": [
        {
          "output_type": "stream",
          "text": [
            "Building prefix dict from /content/dict.jieba.big ...\n",
            "Dumping model to file cache /tmp/jieba.ude312db176676e4f808d1d24e4092662.cache\n",
            "Loading model cost 1.563 seconds.\n",
            "Prefix dict has been built successfully.\n"
          ],
          "name": "stderr"
        }
      ]
    },
    {
      "cell_type": "code",
      "metadata": {
        "id": "Uuc-PWJ5BTQQ",
        "colab_type": "code",
        "colab": {
          "base_uri": "https://localhost:8080/",
          "height": 588
        },
        "outputId": "875ec7c4-7892-4644-efc7-0e9a2f9d5c54"
      },
      "source": [
        "import pandas as pd\n",
        "df = pd.read_csv(\"ptt.csv\")\n",
        "df"
      ],
      "execution_count": 3,
      "outputs": [
        {
          "output_type": "execute_result",
          "data": {
            "text/html": [
              "<div>\n",
              "<style scoped>\n",
              "    .dataframe tbody tr th:only-of-type {\n",
              "        vertical-align: middle;\n",
              "    }\n",
              "\n",
              "    .dataframe tbody tr th {\n",
              "        vertical-align: top;\n",
              "    }\n",
              "\n",
              "    .dataframe thead th {\n",
              "        text-align: right;\n",
              "    }\n",
              "</style>\n",
              "<table border=\"1\" class=\"dataframe\">\n",
              "  <thead>\n",
              "    <tr style=\"text-align: right;\">\n",
              "      <th></th>\n",
              "      <th>type</th>\n",
              "      <th>title</th>\n",
              "      <th>content</th>\n",
              "    </tr>\n",
              "  </thead>\n",
              "  <tbody>\n",
              "    <tr>\n",
              "      <th>0</th>\n",
              "      <td>問卦</td>\n",
              "      <td>小北若去日本展店 會被唐吉一拳打死嗎?</td>\n",
              "      <td>\\n號稱台灣版驚安の殿堂的小北百貨\\n\\n24小時全年無休五金百貨生活百貨應有盡有\\n\\n在...</td>\n",
              "    </tr>\n",
              "    <tr>\n",
              "      <th>1</th>\n",
              "      <td>新聞</td>\n",
              "      <td>自排入不分區立委？ 李昭平：吳敦義從沒</td>\n",
              "      <td>\\n※發文無1~6小標格式或未依順序任意刪除者會被刪文\\n\\n1.媒體來源:聯合報\\n※ 例...</td>\n",
              "    </tr>\n",
              "    <tr>\n",
              "      <th>2</th>\n",
              "      <td>問卦</td>\n",
              "      <td>有沒有這波警察被桶覺青消失的八卦？</td>\n",
              "      <td>\\n\\n疑？阿不是只要有警察的新聞出現在八卦版\\n八卦覺青就會高潮？\\n每次不是都愛拿太陽花...</td>\n",
              "    </tr>\n",
              "    <tr>\n",
              "      <th>3</th>\n",
              "      <td>新聞</td>\n",
              "      <td>謝鑫佑被唬到大 小說寫覆鼎金多年後成預言</td>\n",
              "      <td>\\n謝鑫佑被唬到大 小說寫覆鼎金多年後成預言\\n\\n（中央社記者鄭景雯台北3日電）「我跟馬奎...</td>\n",
              "    </tr>\n",
              "    <tr>\n",
              "      <th>4</th>\n",
              "      <td>新聞</td>\n",
              "      <td>促韓國瑜辭職 高市藍綠議員爆肢體衝突</td>\n",
              "      <td>\\n※發文無1~6小標格式或未依順序任意刪除者會被刪文\\n\\n1.媒體來源:\\n※ 例如蘋果...</td>\n",
              "    </tr>\n",
              "    <tr>\n",
              "      <th>...</th>\n",
              "      <td>...</td>\n",
              "      <td>...</td>\n",
              "      <td>...</td>\n",
              "    </tr>\n",
              "    <tr>\n",
              "      <th>19995</th>\n",
              "      <td>問卦</td>\n",
              "      <td>你各位會以碗就口嗎？？？</td>\n",
              "      <td>\\n\\n乳題，是這樣啦\\n小弟現在出來吃飯，環顧四周\\n以碗就口的包括我就只有兩個\\n其他的...</td>\n",
              "    </tr>\n",
              "    <tr>\n",
              "      <th>19996</th>\n",
              "      <td>問卦</td>\n",
              "      <td>握推手腕到底可不可以彎阿？</td>\n",
              "      <td>\\n\\n\\n各位巨巨大家晚安大家好\\n小弟是習慣不彎喇\\n就是往上推時手腕跟手臂成一直線\\n...</td>\n",
              "    </tr>\n",
              "    <tr>\n",
              "      <th>19997</th>\n",
              "      <td>問卦</td>\n",
              "      <td>佐佐木美玲的中文程度到底如何？</td>\n",
              "      <td>\\nhttps://imgur.com/Lm0FbuA.jpg\\n\\n佐佐木美玲小時候曾經住...</td>\n",
              "    </tr>\n",
              "    <tr>\n",
              "      <th>19998</th>\n",
              "      <td>問卦</td>\n",
              "      <td>欸欸欸 講話是不是一定要多XD比較好?</td>\n",
              "      <td>\\n乳體\\n\\n是這樣的拉XD\\n\\n本肥宅常常看到有人在網路上亂嗆人\\n\\n結果就被對方吉...</td>\n",
              "    </tr>\n",
              "    <tr>\n",
              "      <th>19999</th>\n",
              "      <td>問卦</td>\n",
              "      <td>Ptt棋院怎麼沒有黑白棋?</td>\n",
              "      <td>\\n黑白棋的介面在Ptt上面應該不難設計才對\\n\\n日本人超愛下黑白棋，風行程度更是超過日本...</td>\n",
              "    </tr>\n",
              "  </tbody>\n",
              "</table>\n",
              "<p>20000 rows × 3 columns</p>\n",
              "</div>"
            ],
            "text/plain": [
              "      type  ...                                            content\n",
              "0       問卦  ...  \\n號稱台灣版驚安の殿堂的小北百貨\\n\\n24小時全年無休五金百貨生活百貨應有盡有\\n\\n在...\n",
              "1       新聞  ...  \\n※發文無1~6小標格式或未依順序任意刪除者會被刪文\\n\\n1.媒體來源:聯合報\\n※ 例...\n",
              "2       問卦  ...  \\n\\n疑？阿不是只要有警察的新聞出現在八卦版\\n八卦覺青就會高潮？\\n每次不是都愛拿太陽花...\n",
              "3       新聞  ...  \\n謝鑫佑被唬到大 小說寫覆鼎金多年後成預言\\n\\n（中央社記者鄭景雯台北3日電）「我跟馬奎...\n",
              "4       新聞  ...  \\n※發文無1~6小標格式或未依順序任意刪除者會被刪文\\n\\n1.媒體來源:\\n※ 例如蘋果...\n",
              "...    ...  ...                                                ...\n",
              "19995   問卦  ...  \\n\\n乳題，是這樣啦\\n小弟現在出來吃飯，環顧四周\\n以碗就口的包括我就只有兩個\\n其他的...\n",
              "19996   問卦  ...  \\n\\n\\n各位巨巨大家晚安大家好\\n小弟是習慣不彎喇\\n就是往上推時手腕跟手臂成一直線\\n...\n",
              "19997   問卦  ...  \\nhttps://imgur.com/Lm0FbuA.jpg\\n\\n佐佐木美玲小時候曾經住...\n",
              "19998   問卦  ...  \\n乳體\\n\\n是這樣的拉XD\\n\\n本肥宅常常看到有人在網路上亂嗆人\\n\\n結果就被對方吉...\n",
              "19999   問卦  ...  \\n黑白棋的介面在Ptt上面應該不難設計才對\\n\\n日本人超愛下黑白棋，風行程度更是超過日本...\n",
              "\n",
              "[20000 rows x 3 columns]"
            ]
          },
          "metadata": {
            "tags": []
          },
          "execution_count": 3
        }
      ]
    },
    {
      "cell_type": "code",
      "metadata": {
        "id": "idS2K1_ZgMIL",
        "colab_type": "code",
        "colab": {
          "base_uri": "https://localhost:8080/",
          "height": 223
        },
        "outputId": "32c6cabd-247e-4500-a78c-174cbc86bf05"
      },
      "source": [
        "import re\n",
        "def pttcut(content):\n",
        "    content = re.sub(r'https?:\\/\\/.*[\\r\\n]*', '', content)\n",
        "    punct = set(u''':!),.:;?]}¢'\"、。〉》」』】〕〗〞︰︱︳﹐､﹒﹔﹕﹖﹗﹚﹜﹞！），．：；？｜｝︴︶︸︺︼︾﹀﹂﹄﹏､～￠々‖•·ˇˉ―--′’”([{£¥'\"‵〈《「『【〔〖（［｛￡￥〝︵︷︹︻︽︿﹁﹃﹙﹛﹝（｛“‘-—_…~/ －＊➜■─★☆=@<>◉é''')\n",
        "    content = filter(lambda x: x not in punct, jieba.cut(content))\n",
        "    return \" \".join(content)\n",
        "x_train = df[\"content\"].apply(pttcut)\n",
        "x_train"
      ],
      "execution_count": 6,
      "outputs": [
        {
          "output_type": "execute_result",
          "data": {
            "text/plain": [
              "0        \\n 號稱 台灣版 驚安 の 殿堂 的 小北 百貨 \\n \\n 24 小時 全年 無休 五金...\n",
              "1        \\n ※ 發文 無 1 6 小 標格 式 或 未 依 順序 任意 刪除 者 會 被刪 文 \\...\n",
              "2        \\n \\n 疑 阿 不是 只要 有 警察 的 新聞 出現 在 八卦 版 \\n 八卦 覺青 就...\n",
              "3        \\n 謝鑫佑 被 唬 到 大 小說 寫 覆鼎金 多年 後 成 預言 \\n \\n 中央社 記者...\n",
              "4        \\n ※ 發文 無 1 6 小 標格 式 或 未 依 順序 任意 刪除 者 會 被刪 文 \\...\n",
              "                               ...                        \n",
              "19995    \\n \\n 乳題 是 這樣 啦 \\n 小弟 現在 出來 吃飯 環顧四周 \\n 以碗 就 口 ...\n",
              "19996    \\n \\n \\n 各位 巨 巨大 家 晚安 大家 好 \\n 小弟 是 習慣 不彎 喇 \\n ...\n",
              "19997    \\n 佐佐木 美玲 小時候 曾經 住過 台灣 \\n \\n 也 曾 在 節目 中 透露 這段 ...\n",
              "19998    \\n 乳體 \\n \\n 是 這樣 的 拉 XD \\n \\n 本 肥宅 常常 看到 有人 在 ...\n",
              "19999    \\n 黑白棋 的 介面 在 Ptt 上面 應該 不難 設計 才 對 \\n \\n 日本 人 超...\n",
              "Name: content, Length: 20000, dtype: object"
            ]
          },
          "metadata": {
            "tags": []
          },
          "execution_count": 6
        }
      ]
    },
    {
      "cell_type": "code",
      "metadata": {
        "id": "fLl5y8F6ig8e",
        "colab_type": "code",
        "colab": {}
      },
      "source": [
        "with open(\"ptt_cut.txt\", \"w\", encoding=\"utf-8\") as f:\n",
        "    for post in x_train:\n",
        "        f.write(post)\n",
        "        f.write(\"\\n\")"
      ],
      "execution_count": 7,
      "outputs": []
    },
    {
      "cell_type": "code",
      "metadata": {
        "id": "LigoRMj3nLL8",
        "colab_type": "code",
        "colab": {}
      },
      "source": [
        "from gensim.models.word2vec import LineSentence, Word2Vec\n",
        "sentences = LineSentence(\"ptt_cut.txt\")\n",
        "w2v = Word2Vec(sentences)"
      ],
      "execution_count": null,
      "outputs": []
    },
    {
      "cell_type": "code",
      "metadata": {
        "id": "MHUdxa6Pn_Xb",
        "colab_type": "code",
        "colab": {}
      },
      "source": [
        "print(len(w2v.wv.vocab))\n",
        "print(\"肥宅\" in w2v.wv.vocab)\n",
        "print(\"Elwing\" in w2v.wv.vocab)\n",
        "w2v.wv[\"肥宅\"]"
      ],
      "execution_count": null,
      "outputs": []
    },
    {
      "cell_type": "code",
      "metadata": {
        "id": "pElzcqzZqM3g",
        "colab_type": "code",
        "colab": {}
      },
      "source": [
        "w2v.wv.most_similar(\"肥宅\")"
      ],
      "execution_count": null,
      "outputs": []
    },
    {
      "cell_type": "code",
      "metadata": {
        "id": "fxGEJHM-qv8e",
        "colab_type": "code",
        "colab": {}
      },
      "source": [
        "w2v.wv.similarity(\"肥宅\", \"妹子\")"
      ],
      "execution_count": null,
      "outputs": []
    },
    {
      "cell_type": "code",
      "metadata": {
        "id": "C2QxyJjgtjNM",
        "colab_type": "code",
        "colab": {
          "base_uri": "https://localhost:8080/",
          "height": 34
        },
        "outputId": "fe25e61a-c3b2-48f9-b948-005a521fe877"
      },
      "source": [
        "import numpy as np\n",
        "import jieba.analyse\n",
        "post_vecs = []\n",
        "for post in x_train:\n",
        "    tags = jieba.analyse.extract_tags(post, \n",
        "                                      topK=None, \n",
        "                                      withWeight=True)\n",
        "    vec, ws = np.zeros((100, )), 0.0\n",
        "    for k, tfidf in tags:\n",
        "        if k in w2v.wv.vocab:\n",
        "            vec = vec + w2v.wv[k] * tfidf\n",
        "            ws = ws + tfidf\n",
        "    post_vecs.append(vec/ws)\n",
        "np.array(post_vecs).shape"
      ],
      "execution_count": 23,
      "outputs": [
        {
          "output_type": "execute_result",
          "data": {
            "text/plain": [
              "(20000, 100)"
            ]
          },
          "metadata": {
            "tags": []
          },
          "execution_count": 23
        }
      ]
    },
    {
      "cell_type": "code",
      "metadata": {
        "id": "KVVfe66Lv9Q9",
        "colab_type": "code",
        "colab": {}
      },
      "source": [
        "with open(\"post.txt\", \"w\", encoding=\"utf-8\") as f:\n",
        "    f.write(\"{} {}\\n\".format(20000, 100))\n",
        "    for i, v in enumerate(post_vecs):\n",
        "        v = \" \".join(map(str, v))\n",
        "        f.write(\"{} {}\\n\".format(i, v))"
      ],
      "execution_count": 24,
      "outputs": []
    },
    {
      "cell_type": "code",
      "metadata": {
        "id": "8kQ8Hfe-xETK",
        "colab_type": "code",
        "colab": {}
      },
      "source": [
        "# 前面都是前置動作, 真正在用從這行開始\n",
        "from gensim.models import KeyedVectors\n",
        "d2v = KeyedVectors.load_word2vec_format(\"post.txt\")"
      ],
      "execution_count": null,
      "outputs": []
    },
    {
      "cell_type": "code",
      "metadata": {
        "id": "LbAT76G4xsdm",
        "colab_type": "code",
        "colab": {
          "base_uri": "https://localhost:8080/",
          "height": 1000
        },
        "outputId": "9f0c752a-f04e-443e-a6fa-b7d883ebd017"
      },
      "source": [
        "idx = input(\"輸入代號[0-19999]:\")\n",
        "row = df.iloc[int(idx)]\n",
        "print(\"原標題:\", row[\"title\"])\n",
        "print(\"原文章:\", row[\"content\"])\n",
        "print(\"-\" * 100)\n",
        "# 我只取第一篇[0]\n",
        "idx, cos = d2v.most_similar(idx)[0]\n",
        "print(\"cos距離:\", cos)\n",
        "row = df.iloc[int(idx)]\n",
        "print(\"最像標題:\", row[\"title\"])\n",
        "print(\"最像文章:\", row[\"content\"])"
      ],
      "execution_count": 33,
      "outputs": [
        {
          "output_type": "stream",
          "text": [
            "輸入代號[0-19999]:2\n",
            "原標題: 有沒有這波警察被桶覺青消失的八卦？\n",
            "原文章: \n",
            "\n",
            "疑？阿不是只要有警察的新聞出現在八卦版\n",
            "八卦覺青就會高潮？\n",
            "每次不是都愛拿太陽花圖片火力支援？\n",
            "\n",
            "怎麼從昨天事情發生到現在\n",
            "每篇都找不到覺青貼圖惹？？？\n",
            "\n",
            "是不是覺青也會看風向？風頭不對就不敢po了？\n",
            "\n",
            "\n",
            "\n",
            "神圖助攻了！\n",
            "http://i.imgur.com/eXo260p.jpg\n",
            "\n",
            "\n",
            "\n",
            "警察被捅，最開心的是不是當初去立法院外喝啤酒打卡拍照的那幾千名覺青呀？？？\n",
            "\n",
            "-----\n",
            "Sent from JPTT on my Xiaomi MI 9.\n",
            "\n",
            "--\n",
            "\n",
            "----------------------------------------------------------------------------------------------------\n",
            "cos距離: 0.9295192360877991\n",
            "最像標題: 欸，有聽過，顯微鏡下的柯學嗎？\n",
            "最像文章: \n",
            "\n",
            "顯微鏡下的柯學\n",
            "\n",
            "作詞：廢文大師兄\n",
            "作曲：黃義達\n",
            "\n",
            "DPP 看批踢踢 在哭泣\n",
            "洗掉了一些夢 埋葬在高市裡\n",
            "\n",
            "NPP 看佛來敵 到哪去\n",
            "好像在預報著 未來的肥皂劇\n",
            "\n",
            "一封信 一件舊的新聞歸依\n",
            "誰說誰那麼沒品 拿什麼來回憶\n",
            "\n",
            "一鬧劇 狠狠演在眼睛裡\n",
            "愛在老母發言後 已經都沒關係\n",
            "\n",
            "問自已 沒有柯痞我行不行\n",
            "顯微鏡裡看柯學 殘酷的放大所有鄉愿的原因\n",
            "\n",
            "更多更詳盡歌詞 在 ※ Moxxx.com　魔禁歌詞網\n",
            "\n",
            "遇見P 之後 愛上你 然後 恨透你\n",
            "原來 柯學是回不去的旅行\n",
            "親愛的 讓我忘記痞 那些事情 我終於看仔細\n",
            "\n",
            "深夜裡 捷運站 滑批踢踢\n",
            "我看著馬路邊 另一位柯學痞\n",
            "-----\n",
            "Sent from JPTT on my iPhone\n",
            "\n",
            "--\n",
            "\n"
          ],
          "name": "stdout"
        },
        {
          "output_type": "stream",
          "text": [
            "/usr/local/lib/python3.6/dist-packages/gensim/matutils.py:737: FutureWarning: Conversion of the second argument of issubdtype from `int` to `np.signedinteger` is deprecated. In future, it will be treated as `np.int64 == np.dtype(int).type`.\n",
            "  if np.issubdtype(vec.dtype, np.int):\n"
          ],
          "name": "stderr"
        }
      ]
    }
  ]
}